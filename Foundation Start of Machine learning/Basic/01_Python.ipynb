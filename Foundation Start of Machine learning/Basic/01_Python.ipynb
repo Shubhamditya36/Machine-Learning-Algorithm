{
  "nbformat": 4,
  "nbformat_minor": 0,
  "metadata": {
    "colab": {
      "name": "01_Python",
      "version": "0.3.2",
      "provenance": [],
      "collapsed_sections": []
    },
    "kernelspec": {
      "name": "python3",
      "display_name": "Python 3"
    }
  },
  "cells": [
    {
      "metadata": {
        "id": "bOChJSNXtC9g",
        "colab_type": "text"
      },
      "cell_type": "markdown",
      "source": [
        "# Introduction to Python"
      ]
    },
    {
      "metadata": {
        "id": "OLIxEDq6VhvZ",
        "colab_type": "text"
      },
      "cell_type": "markdown",
      "source": [
        "\n",
        "\n",
        "** Python programming language** \n",
        "\n"
      ]
    },
    {
      "metadata": {
        "id": "VoMq0eFRvugb",
        "colab_type": "text"
      },
      "cell_type": "markdown",
      "source": [
        "#  Variables"
      ]
    },
    {
      "metadata": {
        "id": "qWro5T5qTJJL",
        "colab_type": "text"
      },
      "cell_type": "markdown",
      "source": [
        "Variables are objects in Python that can hold anything with numbers or text. Let's look at how to create some variables."
      ]
    },
    {
      "metadata": {
        "id": "0-dXQiLlTIgz",
        "colab_type": "code",
        "outputId": "37740c80-3fe9-482e-a938-12195d834be9",
        "colab": {
          "base_uri": "https://localhost:8080/",
          "height": 34
        }
      },
      "cell_type": "code",
      "source": [
        "# Numerical example\n",
        "x = 1526589\n",
        "print (x)"
      ],
      "execution_count": 1,
      "outputs": [
        {
          "output_type": "stream",
          "text": [
            "1526589\n"
          ],
          "name": "stdout"
        }
      ]
    },
    {
      "metadata": {
        "id": "5Ym0owFxTkjo",
        "colab_type": "code",
        "outputId": "19771a9f-fe38-4cd5-9dd4-889d81931274",
        "colab": {
          "base_uri": "https://localhost:8080/",
          "height": 34
        }
      },
      "cell_type": "code",
      "source": [
        "# Text example\n",
        "x = \"hello\"\n",
        "print (x)"
      ],
      "execution_count": 2,
      "outputs": [
        {
          "output_type": "stream",
          "text": [
            "hello\n"
          ],
          "name": "stdout"
        }
      ]
    },
    {
      "metadata": {
        "id": "1a4ZhMV1T1-0",
        "colab_type": "code",
        "outputId": "7fb16914-44f0-4479-eedb-bb9138b38efd",
        "colab": {
          "base_uri": "https://localhost:8080/",
          "height": 34
        }
      },
      "cell_type": "code",
      "source": [
        "# Variables can be used with each other\n",
        "a = 1\n",
        "b = 2\n",
        "c = a + b\n",
        "print (c)"
      ],
      "execution_count": 3,
      "outputs": [
        {
          "output_type": "stream",
          "text": [
            "3\n"
          ],
          "name": "stdout"
        }
      ]
    },
    {
      "metadata": {
        "id": "nbKV4aTdUC1_",
        "colab_type": "text"
      },
      "cell_type": "markdown",
      "source": [
        "Variables can come in lots of different types. Even within numerical variables, you can have integers (int), floats (float), etc. All text based variables are of type string (str). We can see what type a variable is by printing its type."
      ]
    },
    {
      "metadata": {
        "id": "c3NJmfO4Uc6V",
        "colab_type": "code",
        "outputId": "808134a6-965e-465c-825e-a3e2ece67625",
        "colab": {
          "base_uri": "https://localhost:8080/",
          "height": 151
        }
      },
      "cell_type": "code",
      "source": [
        "# int variable\n",
        "x = 5\n",
        "print (x)\n",
        "print (type(x))\n",
        "\n",
        "# float variable\n",
        "x = 5.0\n",
        "print (x)\n",
        "print (type(x))\n",
        "\n",
        "# text variable\n",
        "x = \"5\" \n",
        "print (x)\n",
        "print (type(x))\n",
        "\n",
        "# boolean variable\n",
        "x = True\n",
        "print (x)\n",
        "print (type(x))"
      ],
      "execution_count": 4,
      "outputs": [
        {
          "output_type": "stream",
          "text": [
            "5\n",
            "<class 'int'>\n",
            "5.0\n",
            "<class 'float'>\n",
            "5\n",
            "<class 'str'>\n",
            "True\n",
            "<class 'bool'>\n"
          ],
          "name": "stdout"
        }
      ]
    },
    {
      "metadata": {
        "id": "6HPtavfdU8Ut",
        "colab_type": "text"
      },
      "cell_type": "markdown",
      "source": [
        "It's good practice to know what types your variables are. When you want to use numerical operations on them, they need to be compatible. "
      ]
    },
    {
      "metadata": {
        "id": "8pr1-i7IVD-h",
        "colab_type": "code",
        "outputId": "57bad7f1-182d-4664-8f2a-db531ca339ea",
        "colab": {
          "base_uri": "https://localhost:8080/",
          "height": 50
        }
      },
      "cell_type": "code",
      "source": [
        "# int variables\n",
        "a = 5\n",
        "b = 3\n",
        "print (a + b)\n",
        "\n",
        "# string variables\n",
        "a = \"5\"\n",
        "b = \"3\"\n",
        "print (a + b)"
      ],
      "execution_count": 5,
      "outputs": [
        {
          "output_type": "stream",
          "text": [
            "8\n",
            "53\n"
          ],
          "name": "stdout"
        }
      ]
    },
    {
      "metadata": {
        "id": "q4R_UF6PVw4V",
        "colab_type": "text"
      },
      "cell_type": "markdown",
      "source": [
        "#  Lists"
      ]
    },
    {
      "metadata": {
        "id": "LvGsQBj4VjMl",
        "colab_type": "text"
      },
      "cell_type": "markdown",
      "source": [
        "Lists are objects in Python that can hold a ordered sequence of numbers **and** text."
      ]
    },
    {
      "metadata": {
        "id": "9iPESkq9VvlX",
        "colab_type": "code",
        "outputId": "a9c78812-f20f-49a7-e17d-fa83a747f03c",
        "colab": {
          "base_uri": "https://localhost:8080/",
          "height": 34
        }
      },
      "cell_type": "code",
      "source": [
        "# Creating a list\n",
        "list_x = [14.3, \"hello\", 1]\n",
        "print (list_x)"
      ],
      "execution_count": 6,
      "outputs": [
        {
          "output_type": "stream",
          "text": [
            "[14.3, 'hello', 1]\n"
          ],
          "name": "stdout"
        }
      ]
    },
    {
      "metadata": {
        "id": "0xC6WvuwbGDg",
        "colab_type": "text"
      },
      "cell_type": "markdown",
      "source": [
        ""
      ]
    },
    {
      "metadata": {
        "id": "7lbajc-zV515",
        "colab_type": "code",
        "outputId": "b01253a2-84fa-4436-d9e1-af9ed4eaa9b2",
        "colab": {
          "base_uri": "https://localhost:8080/",
          "height": 34
        }
      },
      "cell_type": "code",
      "source": [
        "# Adding to a list\n",
        "list_x.append(7)\n",
        "print (list_x)"
      ],
      "execution_count": 7,
      "outputs": [
        {
          "output_type": "stream",
          "text": [
            "[14.3, 'hello', 1, 7]\n"
          ],
          "name": "stdout"
        }
      ]
    },
    {
      "metadata": {
        "id": "W0xpIryJWCN9",
        "colab_type": "code",
        "outputId": "7dc2ec1f-0a63-4331-becf-0591038dae91",
        "colab": {
          "base_uri": "https://localhost:8080/",
          "height": 101
        }
      },
      "cell_type": "code",
      "source": [
        "# Accessing items at specific location in a list\n",
        "print (\"list_x[0]: \", list_x[0])\n",
        "print (\"list_x[1]: \", list_x[1])\n",
        "print (\"list_x[2]: \", list_x[2])\n",
        "print (\"list_x[-1]: \", list_x[-1]) # the last item\n",
        "print (\"list_x[-2]: \", list_x[-2]) # the second to last item"
      ],
      "execution_count": 8,
      "outputs": [
        {
          "output_type": "stream",
          "text": [
            "list_x[0]:  14.3\n",
            "list_x[1]:  hello\n",
            "list_x[2]:  1\n",
            "list_x[-1]:  7\n",
            "list_x[-2]:  1\n"
          ],
          "name": "stdout"
        }
      ]
    },
    {
      "metadata": {
        "id": "VSu_HNrnc1WK",
        "colab_type": "code",
        "outputId": "e2b49ebb-f045-4615-cda3-68463b1924a1",
        "colab": {
          "base_uri": "https://localhost:8080/",
          "height": 84
        }
      },
      "cell_type": "code",
      "source": [
        "# Slicing\n",
        "print (\"list_x[:]: \", list_x[:])\n",
        "print (\"list_x[2:]: \", list_x[2:])\n",
        "print (\"list_x[1:3]: \", list_x[1:3])\n",
        "print (\"list_x[:-1]: \", list_x[:-1])"
      ],
      "execution_count": 9,
      "outputs": [
        {
          "output_type": "stream",
          "text": [
            "list_x[:]:  [14.3, 'hello', 1, 7]\n",
            "list_x[2:]:  [1, 7]\n",
            "list_x[1:3]:  ['hello', 1]\n",
            "list_x[:-1]:  [14.3, 'hello', 1]\n"
          ],
          "name": "stdout"
        }
      ]
    },
    {
      "metadata": {
        "id": "dImY-hVzWxB4",
        "colab_type": "code",
        "outputId": "03fe2259-26b0-4d97-8dc3-85b2f7eb6c8d",
        "colab": {
          "base_uri": "https://localhost:8080/",
          "height": 34
        }
      },
      "cell_type": "code",
      "source": [
        "# Length of a list\n",
        "len(list_x)"
      ],
      "execution_count": 10,
      "outputs": [
        {
          "output_type": "execute_result",
          "data": {
            "text/plain": [
              "4"
            ]
          },
          "metadata": {
            "tags": []
          },
          "execution_count": 10
        }
      ]
    },
    {
      "metadata": {
        "id": "3-reXDniW_sm",
        "colab_type": "code",
        "outputId": "3c6cd80d-95a8-4679-fa77-977cfb540c3b",
        "colab": {
          "base_uri": "https://localhost:8080/",
          "height": 34
        }
      },
      "cell_type": "code",
      "source": [
        "# Replacing items in a list\n",
        "list_x[1] = \"hi\"\n",
        "print (list_x)"
      ],
      "execution_count": 11,
      "outputs": [
        {
          "output_type": "stream",
          "text": [
            "[14.3, 'hi', 1, 7]\n"
          ],
          "name": "stdout"
        }
      ]
    },
    {
      "metadata": {
        "id": "X8T5I3bjXJ0S",
        "colab_type": "code",
        "outputId": "b7667cbd-3087-455b-c94c-6f5f34f93e0c",
        "colab": {
          "base_uri": "https://localhost:8080/",
          "height": 34
        }
      },
      "cell_type": "code",
      "source": [
        "# Combining lists\n",
        "list_y = [2.4, \"world\"]\n",
        "list_z = list_x + list_y\n",
        "print (list_z)"
      ],
      "execution_count": 12,
      "outputs": [
        {
          "output_type": "stream",
          "text": [
            "[14.3, 'hi', 1, 7, 2.4, 'world']\n"
          ],
          "name": "stdout"
        }
      ]
    },
    {
      "metadata": {
        "id": "ddpIO6LLVzh0",
        "colab_type": "text"
      },
      "cell_type": "markdown",
      "source": [
        "# Tuples"
      ]
    },
    {
      "metadata": {
        "id": "CAZblq7oXY3s",
        "colab_type": "text"
      },
      "cell_type": "markdown",
      "source": [
        "Tuples are also objects in Python that can hold data but you cannot replace their values (for this reason, tuples are called immutable, whereas lists are known as mutable)."
      ]
    },
    {
      "metadata": {
        "id": "G95lu8xWXY90",
        "colab_type": "code",
        "outputId": "41546c62-0645-4a7a-c2e4-ee61a36854db",
        "colab": {
          "base_uri": "https://localhost:8080/",
          "height": 34
        }
      },
      "cell_type": "code",
      "source": [
        "# Creating a tuple\n",
        "tuple_x = (3.0, \"hello\")\n",
        "print (tuple_x)"
      ],
      "execution_count": 13,
      "outputs": [
        {
          "output_type": "stream",
          "text": [
            "(3.0, 'hello')\n"
          ],
          "name": "stdout"
        }
      ]
    },
    {
      "metadata": {
        "id": "kq23Bej1acAP",
        "colab_type": "code",
        "outputId": "3b53194e-ab1d-4747-fc3a-ce97c2c3a0f8",
        "colab": {
          "base_uri": "https://localhost:8080/",
          "height": 34
        }
      },
      "cell_type": "code",
      "source": [
        "# Adding values to a tuple\n",
        "tuple_x = tuple_x + (5.6,)\n",
        "print (tuple_x)"
      ],
      "execution_count": 14,
      "outputs": [
        {
          "output_type": "stream",
          "text": [
            "(3.0, 'hello', 5.6)\n"
          ],
          "name": "stdout"
        }
      ]
    },
    {
      "metadata": {
        "id": "vyTmOc6BXkge",
        "colab_type": "code",
        "outputId": "5ba3d63d-5252-465c-9ab6-a85c0f1da6fb",
        "colab": {
          "base_uri": "https://localhost:8080/",
          "height": 162
        }
      },
      "cell_type": "code",
      "source": [
        "# Trying to change a tuples value (you can't)\n",
        "tuple_x[1] = \"world\""
      ],
      "execution_count": 15,
      "outputs": [
        {
          "output_type": "error",
          "ename": "TypeError",
          "evalue": "ignored",
          "traceback": [
            "\u001b[0;31m---------------------------------------------------------------------------\u001b[0m",
            "\u001b[0;31mTypeError\u001b[0m                                 Traceback (most recent call last)",
            "\u001b[0;32m<ipython-input-15-86abc19d8025>\u001b[0m in \u001b[0;36m<module>\u001b[0;34m()\u001b[0m\n\u001b[0;32m----> 1\u001b[0;31m \u001b[0mtuple_x\u001b[0m\u001b[0;34m[\u001b[0m\u001b[0;36m1\u001b[0m\u001b[0;34m]\u001b[0m \u001b[0;34m=\u001b[0m \u001b[0;34m\"world\"\u001b[0m\u001b[0;34m\u001b[0m\u001b[0;34m\u001b[0m\u001b[0m\n\u001b[0m",
            "\u001b[0;31mTypeError\u001b[0m: 'tuple' object does not support item assignment"
          ]
        }
      ]
    },
    {
      "metadata": {
        "id": "UdlJHkwZV3Mz",
        "colab_type": "text"
      },
      "cell_type": "markdown",
      "source": [
        "# Dictionaries"
      ]
    },
    {
      "metadata": {
        "id": "azp3AoxYXS26",
        "colab_type": "text"
      },
      "cell_type": "markdown",
      "source": [
        "Dictionaries are Python objects that hold key-value pairs. In the example dictionary below, the keys are the \"name\" and \"eye_color\" variables. They each have a value associated with them. A dictionary cannot have two of the same keys. "
      ]
    },
    {
      "metadata": {
        "id": "pXhNLbzpXXSk",
        "colab_type": "code",
        "outputId": "698b53b3-93dd-4965-cfcd-c482f7178174",
        "colab": {
          "base_uri": "https://localhost:8080/",
          "height": 67
        }
      },
      "cell_type": "code",
      "source": [
        "# Creating a dictionary\n",
        "dict = {\"name\": \"Goku\",\n",
        "        \"eye_color\": \"brown\"}\n",
        "print (dict)\n",
        "print (dict[\"name\"])\n",
        "print (dict[\"eye_color\"])\n"
      ],
      "execution_count": 17,
      "outputs": [
        {
          "output_type": "stream",
          "text": [
            "{'name': 'Goku', 'eye_color': 'brown'}\n",
            "Goku\n",
            "brown\n"
          ],
          "name": "stdout"
        }
      ]
    },
    {
      "metadata": {
        "id": "1HXtX8vQYjXa",
        "colab_type": "code",
        "outputId": "b1bc5388-3643-4915-c1cf-dc09c9a8545f",
        "colab": {
          "base_uri": "https://localhost:8080/",
          "height": 34
        }
      },
      "cell_type": "code",
      "source": [
        "# Changing the value for a key\n",
        "dict[\"eye_color\"] = \"green\"\n",
        "print (dict)"
      ],
      "execution_count": 18,
      "outputs": [
        {
          "output_type": "stream",
          "text": [
            "{'name': 'Goku', 'eye_color': 'green'}\n"
          ],
          "name": "stdout"
        }
      ]
    },
    {
      "metadata": {
        "id": "qn33iB0MY5dT",
        "colab_type": "code",
        "outputId": "83574d0c-e0ae-43fb-bcaa-f4a1b4e26679",
        "colab": {
          "base_uri": "https://localhost:8080/",
          "height": 34
        }
      },
      "cell_type": "code",
      "source": [
        "# Adding new key-value pairs\n",
        "dict[\"age\"] = 24\n",
        "print (dict)"
      ],
      "execution_count": 19,
      "outputs": [
        {
          "output_type": "stream",
          "text": [
            "{'name': 'Goku', 'eye_color': 'green', 'age': 24}\n"
          ],
          "name": "stdout"
        }
      ]
    },
    {
      "metadata": {
        "id": "g9EYmzMKa9YV",
        "colab_type": "code",
        "outputId": "0c64d50b-9761-4648-ef5f-0b54b8788f52",
        "colab": {
          "base_uri": "https://localhost:8080/",
          "height": 34
        }
      },
      "cell_type": "code",
      "source": [
        "# Length of a dictionary\n",
        "print (len(dict))"
      ],
      "execution_count": 20,
      "outputs": [
        {
          "output_type": "stream",
          "text": [
            "3\n"
          ],
          "name": "stdout"
        }
      ]
    },
    {
      "metadata": {
        "id": "B-DInx_Xo2vJ",
        "colab_type": "text"
      },
      "cell_type": "markdown",
      "source": [
        "# If statements"
      ]
    },
    {
      "metadata": {
        "id": "ZG_ICGRGo4tY",
        "colab_type": "text"
      },
      "cell_type": "markdown",
      "source": [
        "You can use `if` statements to conditionally do something."
      ]
    },
    {
      "metadata": {
        "id": "uob9lQuKo4Pg",
        "colab_type": "code",
        "outputId": "6705e52c-a22a-4faf-872a-69a781f566a8",
        "colab": {
          "base_uri": "https://localhost:8080/",
          "height": 34
        }
      },
      "cell_type": "code",
      "source": [
        "# If statement\n",
        "x = 4\n",
        "if x < 1:\n",
        "    score = \"low\"\n",
        "elif x <= 4:\n",
        "    score = \"medium\"\n",
        "else:\n",
        "    score = \"high\"\n",
        "print (score)"
      ],
      "execution_count": 21,
      "outputs": [
        {
          "output_type": "stream",
          "text": [
            "medium\n"
          ],
          "name": "stdout"
        }
      ]
    },
    {
      "metadata": {
        "id": "vwsQaZqIpfJ3",
        "colab_type": "code",
        "outputId": "1067c920-8f4d-4508-f059-f5eadbafdca8",
        "colab": {
          "base_uri": "https://localhost:8080/",
          "height": 34
        }
      },
      "cell_type": "code",
      "source": [
        "# If statment with a boolean\n",
        "x = True\n",
        "if x:\n",
        "    print (\"it worked\")"
      ],
      "execution_count": 22,
      "outputs": [
        {
          "output_type": "stream",
          "text": [
            "it worked\n"
          ],
          "name": "stdout"
        }
      ]
    },
    {
      "metadata": {
        "id": "sJ7NPGEKV6Ik",
        "colab_type": "text"
      },
      "cell_type": "markdown",
      "source": [
        "# Loops"
      ]
    },
    {
      "metadata": {
        "id": "YRVxhVCkn0vc",
        "colab_type": "text"
      },
      "cell_type": "markdown",
      "source": [
        "In Python, you can use `for` loop to iterate over the elements of a sequence such as a list or tuple, or use `while` loop to do something repeatedly as long as a condition holds."
      ]
    },
    {
      "metadata": {
        "id": "OB5PtyqAn8mj",
        "colab_type": "code",
        "outputId": "b4595670-99d4-473e-b299-bf8cf47f1d81",
        "colab": {
          "base_uri": "https://localhost:8080/",
          "height": 68
        }
      },
      "cell_type": "code",
      "source": [
        "# For loop\n",
        "x = 1\n",
        "for i in range(3): # goes from i=0 to i=2\n",
        "    x += 1 # same as x = x + 1\n",
        "    print (\"i={0}, x={1}\".format(i, x)) # printing with multiple variables"
      ],
      "execution_count": 0,
      "outputs": [
        {
          "output_type": "stream",
          "text": [
            "i=0, x=2\n",
            "i=1, x=3\n",
            "i=2, x=4\n"
          ],
          "name": "stdout"
        }
      ]
    },
    {
      "metadata": {
        "id": "6XyhCrFeoGj4",
        "colab_type": "code",
        "outputId": "ec5f4c47-918c-4a8b-f94f-d81913fc3c17",
        "colab": {
          "base_uri": "https://localhost:8080/",
          "height": 67
        }
      },
      "cell_type": "code",
      "source": [
        "# Loop through items in a list\n",
        "x = 1\n",
        "for i in [0, 1, 2]:\n",
        "    x += 1\n",
        "    print (\"i={0}, x={1}\".format(i, x))"
      ],
      "execution_count": 23,
      "outputs": [
        {
          "output_type": "stream",
          "text": [
            "i=0, x=2\n",
            "i=1, x=3\n",
            "i=2, x=4\n"
          ],
          "name": "stdout"
        }
      ]
    },
    {
      "metadata": {
        "id": "5Tf2x4okp3fH",
        "colab_type": "code",
        "outputId": "504c8c31-9e07-4e60-da54-06b630701af1",
        "colab": {
          "base_uri": "https://localhost:8080/",
          "height": 67
        }
      },
      "cell_type": "code",
      "source": [
        "# While loop\n",
        "x = 3\n",
        "while x > 0:\n",
        "    x -= 1 # same as x = x - 1\n",
        "    print (x)"
      ],
      "execution_count": 24,
      "outputs": [
        {
          "output_type": "stream",
          "text": [
            "2\n",
            "1\n",
            "0\n"
          ],
          "name": "stdout"
        }
      ]
    },
    {
      "metadata": {
        "id": "gJw-EDO9WBL_",
        "colab_type": "text"
      },
      "cell_type": "markdown",
      "source": [
        "# Functions"
      ]
    },
    {
      "metadata": {
        "id": "hDIOUdWCqBwa",
        "colab_type": "text"
      },
      "cell_type": "markdown",
      "source": [
        "Functions are a way to modularize reusable pieces of code. "
      ]
    },
    {
      "metadata": {
        "id": "iin1ZXmMqA0y",
        "colab_type": "code",
        "outputId": "f58ef791-5af0-4dda-f2b4-c7cd7b79bf64",
        "colab": {
          "base_uri": "https://localhost:8080/",
          "height": 34
        }
      },
      "cell_type": "code",
      "source": [
        "# Create a function\n",
        "def add_two(x):\n",
        "    x += 2\n",
        "    return x\n",
        "\n",
        "# Use the function\n",
        "score = 2\n",
        "score = add_two(5+score)\n",
        "print (score)"
      ],
      "execution_count": 28,
      "outputs": [
        {
          "output_type": "stream",
          "text": [
            "9\n"
          ],
          "name": "stdout"
        }
      ]
    },
    {
      "metadata": {
        "id": "DC6x3DMrqlE3",
        "colab_type": "code",
        "outputId": "141568da-1a42-48f8-cea6-42244285962e",
        "colab": {
          "base_uri": "https://localhost:8080/",
          "height": 34
        }
      },
      "cell_type": "code",
      "source": [
        "# Function with multiple inputs\n",
        "def join_name(first_name, last_name):\n",
        "    joined_name = first_name + \" \" + last_name\n",
        "    return joined_name\n",
        "\n",
        "# Use the function\n",
        "first_name = \"Akash\"\n",
        "last_name = \"Gupta\"\n",
        "joined_name = join_name(first_name=first_name, last_name=last_name)\n",
        "print (joined_name)"
      ],
      "execution_count": 29,
      "outputs": [
        {
          "output_type": "stream",
          "text": [
            "Akash Gupta\n"
          ],
          "name": "stdout"
        }
      ]
    },
    {
      "metadata": {
        "id": "lBLa1n54WEd2",
        "colab_type": "text"
      },
      "cell_type": "markdown",
      "source": [
        "# Classes"
      ]
    },
    {
      "metadata": {
        "id": "mGua8QnArAZh",
        "colab_type": "text"
      },
      "cell_type": "markdown",
      "source": [
        "Classes are a fundamental piece of object oriented programming in Python."
      ]
    },
    {
      "metadata": {
        "id": "DXmPwI1frAAd",
        "colab_type": "code",
        "colab": {}
      },
      "cell_type": "code",
      "source": [
        "# Creating the class\n",
        "class Pets(object):\n",
        "  \n",
        "    # Initialize the class\n",
        "    def __init__(self, species, color, name):\n",
        "        self.species = species\n",
        "        self.color = color\n",
        "        self.name = name\n",
        "\n",
        "    # For printing  \n",
        "    def __str__(self):\n",
        "        return \"{0} {1} call by {2}.\".format(self.color, self.species, self.name)\n",
        "\n",
        "    # Example function\n",
        "    def change_name(self, new_name):\n",
        "        self.name = new_name"
      ],
      "execution_count": 0,
      "outputs": []
    },
    {
      "metadata": {
        "id": "ezQq_Fhhrqrv",
        "colab_type": "code",
        "outputId": "61854c4a-5058-4039-c0ba-f97cab1b4ec9",
        "colab": {
          "base_uri": "https://localhost:8080/",
          "height": 50
        }
      },
      "cell_type": "code",
      "source": [
        "# Creating an instance of a class\n",
        "my_dog = Pets(species=\"dog\", color=\"orange\", name=\"Guiness\",)\n",
        "print (my_dog)\n",
        "print (my_dog.name)"
      ],
      "execution_count": 33,
      "outputs": [
        {
          "output_type": "stream",
          "text": [
            "orange dog call by Guiness.\n",
            "Guiness\n"
          ],
          "name": "stdout"
        }
      ]
    },
    {
      "metadata": {
        "id": "qTinlRj1szc5",
        "colab_type": "code",
        "outputId": "011bd290-4fd4-4398-dd8f-513fabb00603",
        "colab": {
          "base_uri": "https://localhost:8080/",
          "height": 50
        }
      },
      "cell_type": "code",
      "source": [
        "# Using a class's function\n",
        "my_dog.change_name(new_name=\"Charlie\")\n",
        "print (my_dog)\n",
        "print (my_dog.name)"
      ],
      "execution_count": 34,
      "outputs": [
        {
          "output_type": "stream",
          "text": [
            "orange dog call by Charlie.\n",
            "Charlie\n"
          ],
          "name": "stdout"
        }
      ]
    }
  ]
}